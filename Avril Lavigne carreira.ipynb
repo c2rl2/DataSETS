{
 "cells": [
  {
   "cell_type": "code",
   "execution_count": 3,
   "id": "c2344a89",
   "metadata": {},
   "outputs": [],
   "source": [
    "import pandas as pd\n",
    "import numpy as np"
   ]
  },
  {
   "cell_type": "code",
   "execution_count": 4,
   "id": "1071fccd",
   "metadata": {},
   "outputs": [],
   "source": [
    "Dados=[\"Autor\", \"Album\", \"Ano\", \"LoveSux\", \"LetGo\", \"HeadAboveWater\", \"GoodbyeLullaby\"]"
   ]
  },
  {
   "cell_type": "code",
   "execution_count": 5,
   "id": "cbc8e1fc",
   "metadata": {},
   "outputs": [],
   "source": [
    "linha1 = [\"Avril Lavigne\", \"Love Sux deluxe\",\"2022\",\"Cannonbal\",\"Losing Grip\", \"Head Above Water\", \"Black Stars\"]"
   ]
  },
  {
   "cell_type": "code",
   "execution_count": 6,
   "id": "3fcd6b6c",
   "metadata": {},
   "outputs": [],
   "source": [
    "linha2 = [\"Avril Lavigne\", \"Let go (20th anniversary)\",\"2022\", \"Bois lie feat Machine Gun Kelly\",\"Complicated\", \"Birdie\",\"What the hell\"]"
   ]
  },
  {
   "cell_type": "code",
   "execution_count": 46,
   "id": "49cb5887",
   "metadata": {},
   "outputs": [],
   "source": [
    "AnaliseMyMusics = pd.DataFrame({'Avril Lavigne':['Sk8ter boi','Smile','What the hell'],\n",
    "                    'Kate Perry':['Not the end of world','ET','This Moment'],\n",
    "                    'Linkin Park':['In the end','Numb','Talking to Myself'],\n",
    "                    'Nx Zero':['Ligação','Razoes e emoções','Daqui pra frente'],\n",
    "                    'Fresno':['Casa Assombrada','Vou ter que me virar','Deixa o tempo'],\n",
    "                    'Paramore':['Misery Business','I Caught Myself','Conspiracy'],\n",
    "                    'Evanescence':['bring me to life','Going under','Call me when sober'],\n",
    "                    'Marilyn Manson':['Sweet Dreams','The Beautiful People','tainted love'],\n",
    "                    'Justin Bieber':['One time','Love YourSelf','Baby'],\n",
    "                    'Pink':['F**kin Perfect','So what','Stupid girls'],\n",
    "                    'Miley Cyrus':['Party in the USA','Wrecking Ball','Cant be tamed'],\n",
    "                   \n",
    "                  })"
   ]
  },
  {
   "cell_type": "code",
   "execution_count": 47,
   "id": "1adbc71b",
   "metadata": {},
   "outputs": [
    {
     "name": "stdout",
     "output_type": "stream",
     "text": [
      "   Avril Lavigne            Kate Perry        Linkin Park           Nx Zero  \\\n",
      "0     Sk8ter boi  Not the end of world         In the end           Ligação   \n",
      "1          Smile                    ET               Numb  Razoes e emoções   \n",
      "2  What the hell           This Moment  Talking to Myself  Daqui pra frente   \n",
      "\n",
      "                 Fresno         Paramore         Evanescence  \\\n",
      "0       Casa Assombrada  Misery Business    bring me to life   \n",
      "1  Vou ter que me virar  I Caught Myself         Going under   \n",
      "2         Deixa o tempo       Conspiracy  Call me when sober   \n",
      "\n",
      "         Marilyn Manson  Justin Bieber            Pink       Miley Cyrus  \n",
      "0          Sweet Dreams       One time  F**kin Perfect  Party in the USA  \n",
      "1  The Beautiful People  Love YourSelf         So what     Wrecking Ball  \n",
      "2          tainted love           Baby    Stupid girls     Cant be tamed  \n"
     ]
    }
   ],
   "source": [
    "print(AnaliseMyMusics)"
   ]
  },
  {
   "cell_type": "code",
   "execution_count": 30,
   "id": "e9953029",
   "metadata": {},
   "outputs": [],
   "source": [
    "del Dados"
   ]
  },
  {
   "cell_type": "code",
   "execution_count": 31,
   "id": "16a919bc",
   "metadata": {},
   "outputs": [],
   "source": [
    "del linha2"
   ]
  },
  {
   "cell_type": "code",
   "execution_count": 33,
   "id": "f9d0f485",
   "metadata": {},
   "outputs": [
    {
     "name": "stdout",
     "output_type": "stream",
     "text": [
      "              Autor                            Album  \\\n",
      "0     Avril Lavigne                    Avril Lavigne   \n",
      "1   Love Sux deluxe        Let go (20th anniversary)   \n",
      "2              2022                             2022   \n",
      "3         Cannonbal  Bois lie feat Machine Gun Kelly   \n",
      "4       Losing Grip                      Complicated   \n",
      "5  Head Above Water                           Birdie   \n",
      "6       Black Stars                    What the hell   \n",
      "\n",
      "                             Ano  \n",
      "0                  Avril Lavigne  \n",
      "1              Head Above Header  \n",
      "2                           2019  \n",
      "3                        Bite me  \n",
      "4                     Sk8ter boy  \n",
      "5  I fell in love with the Devil  \n",
      "6                           Push  \n"
     ]
    }
   ],
   "source": [
    "print(df)"
   ]
  },
  {
   "cell_type": "code",
   "execution_count": null,
   "id": "9e75d1d0",
   "metadata": {},
   "outputs": [],
   "source": []
  }
 ],
 "metadata": {
  "kernelspec": {
   "display_name": "Python 3 (ipykernel)",
   "language": "python",
   "name": "python3"
  },
  "language_info": {
   "codemirror_mode": {
    "name": "ipython",
    "version": 3
   },
   "file_extension": ".py",
   "mimetype": "text/x-python",
   "name": "python",
   "nbconvert_exporter": "python",
   "pygments_lexer": "ipython3",
   "version": "3.9.13"
  }
 },
 "nbformat": 4,
 "nbformat_minor": 5
}
