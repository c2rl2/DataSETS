{
  "nbformat": 4,
  "nbformat_minor": 0,
  "metadata": {
    "colab": {
      "provenance": [],
      "authorship_tag": "ABX9TyN69QGM+i4f0fliTczbyyld",
      "include_colab_link": true
    },
    "kernelspec": {
      "name": "python3",
      "display_name": "Python 3"
    },
    "language_info": {
      "name": "python"
    }
  },
  "cells": [
    {
      "cell_type": "markdown",
      "metadata": {
        "id": "view-in-github",
        "colab_type": "text"
      },
      "source": [
        "<a href=\"https://colab.research.google.com/github/c2rl2/DataSETS/blob/master/servidores%20ativos%20da%20UFSCAR%2026/02/2023.ipynb\" target=\"_parent\"><img src=\"https://colab.research.google.com/assets/colab-badge.svg\" alt=\"Open In Colab\"/></a>"
      ]
    },
    {
      "cell_type": "code",
      "execution_count": 4,
      "metadata": {
        "id": "CsZ6zPDEkSvz"
      },
      "outputs": [],
      "source": [
        "import pandas as pd\n",
        "import numpy as np\n",
        "\n",
        "DadosUfscar = pd.read_csv('/content/servidores_ativos_022023 ufscar.csv', sep=',', encoding='ISO-8859-1')\n"
      ]
    },
    {
      "cell_type": "code",
      "source": [
        "DadosUfscar.describe()"
      ],
      "metadata": {
        "colab": {
          "base_uri": "https://localhost:8080/",
          "height": 175
        },
        "id": "gHZom4LbpZUt",
        "outputId": "7ed72bcd-7150-426f-dac8-af399cccf6fb"
      },
      "execution_count": 8,
      "outputs": [
        {
          "output_type": "execute_result",
          "data": {
            "text/plain": [
              "                                 nome                         cargo  \\\n",
              "count                            2243                          2243   \n",
              "unique                           2241                             3   \n",
              "top     Mariana de Almeida Prado Faga  Professor do Ensino Superior   \n",
              "freq                                2                          1280   \n",
              "\n",
              "                         unidade data_ingresso  \n",
              "count                       2243          2243  \n",
              "unique                       307          1386  \n",
              "top     Departamento de Medicina    2009-02-02  \n",
              "freq                          83            30  "
            ],
            "text/html": [
              "\n",
              "  <div id=\"df-e82b97e3-491f-4743-9361-7914d39a8dea\">\n",
              "    <div class=\"colab-df-container\">\n",
              "      <div>\n",
              "<style scoped>\n",
              "    .dataframe tbody tr th:only-of-type {\n",
              "        vertical-align: middle;\n",
              "    }\n",
              "\n",
              "    .dataframe tbody tr th {\n",
              "        vertical-align: top;\n",
              "    }\n",
              "\n",
              "    .dataframe thead th {\n",
              "        text-align: right;\n",
              "    }\n",
              "</style>\n",
              "<table border=\"1\" class=\"dataframe\">\n",
              "  <thead>\n",
              "    <tr style=\"text-align: right;\">\n",
              "      <th></th>\n",
              "      <th>nome</th>\n",
              "      <th>cargo</th>\n",
              "      <th>unidade</th>\n",
              "      <th>data_ingresso</th>\n",
              "    </tr>\n",
              "  </thead>\n",
              "  <tbody>\n",
              "    <tr>\n",
              "      <th>count</th>\n",
              "      <td>2243</td>\n",
              "      <td>2243</td>\n",
              "      <td>2243</td>\n",
              "      <td>2243</td>\n",
              "    </tr>\n",
              "    <tr>\n",
              "      <th>unique</th>\n",
              "      <td>2241</td>\n",
              "      <td>3</td>\n",
              "      <td>307</td>\n",
              "      <td>1386</td>\n",
              "    </tr>\n",
              "    <tr>\n",
              "      <th>top</th>\n",
              "      <td>Mariana de Almeida Prado Faga</td>\n",
              "      <td>Professor do Ensino Superior</td>\n",
              "      <td>Departamento de Medicina</td>\n",
              "      <td>2009-02-02</td>\n",
              "    </tr>\n",
              "    <tr>\n",
              "      <th>freq</th>\n",
              "      <td>2</td>\n",
              "      <td>1280</td>\n",
              "      <td>83</td>\n",
              "      <td>30</td>\n",
              "    </tr>\n",
              "  </tbody>\n",
              "</table>\n",
              "</div>\n",
              "      <button class=\"colab-df-convert\" onclick=\"convertToInteractive('df-e82b97e3-491f-4743-9361-7914d39a8dea')\"\n",
              "              title=\"Convert this dataframe to an interactive table.\"\n",
              "              style=\"display:none;\">\n",
              "        \n",
              "  <svg xmlns=\"http://www.w3.org/2000/svg\" height=\"24px\"viewBox=\"0 0 24 24\"\n",
              "       width=\"24px\">\n",
              "    <path d=\"M0 0h24v24H0V0z\" fill=\"none\"/>\n",
              "    <path d=\"M18.56 5.44l.94 2.06.94-2.06 2.06-.94-2.06-.94-.94-2.06-.94 2.06-2.06.94zm-11 1L8.5 8.5l.94-2.06 2.06-.94-2.06-.94L8.5 2.5l-.94 2.06-2.06.94zm10 10l.94 2.06.94-2.06 2.06-.94-2.06-.94-.94-2.06-.94 2.06-2.06.94z\"/><path d=\"M17.41 7.96l-1.37-1.37c-.4-.4-.92-.59-1.43-.59-.52 0-1.04.2-1.43.59L10.3 9.45l-7.72 7.72c-.78.78-.78 2.05 0 2.83L4 21.41c.39.39.9.59 1.41.59.51 0 1.02-.2 1.41-.59l7.78-7.78 2.81-2.81c.8-.78.8-2.07 0-2.86zM5.41 20L4 18.59l7.72-7.72 1.47 1.35L5.41 20z\"/>\n",
              "  </svg>\n",
              "      </button>\n",
              "      \n",
              "  <style>\n",
              "    .colab-df-container {\n",
              "      display:flex;\n",
              "      flex-wrap:wrap;\n",
              "      gap: 12px;\n",
              "    }\n",
              "\n",
              "    .colab-df-convert {\n",
              "      background-color: #E8F0FE;\n",
              "      border: none;\n",
              "      border-radius: 50%;\n",
              "      cursor: pointer;\n",
              "      display: none;\n",
              "      fill: #1967D2;\n",
              "      height: 32px;\n",
              "      padding: 0 0 0 0;\n",
              "      width: 32px;\n",
              "    }\n",
              "\n",
              "    .colab-df-convert:hover {\n",
              "      background-color: #E2EBFA;\n",
              "      box-shadow: 0px 1px 2px rgba(60, 64, 67, 0.3), 0px 1px 3px 1px rgba(60, 64, 67, 0.15);\n",
              "      fill: #174EA6;\n",
              "    }\n",
              "\n",
              "    [theme=dark] .colab-df-convert {\n",
              "      background-color: #3B4455;\n",
              "      fill: #D2E3FC;\n",
              "    }\n",
              "\n",
              "    [theme=dark] .colab-df-convert:hover {\n",
              "      background-color: #434B5C;\n",
              "      box-shadow: 0px 1px 3px 1px rgba(0, 0, 0, 0.15);\n",
              "      filter: drop-shadow(0px 1px 2px rgba(0, 0, 0, 0.3));\n",
              "      fill: #FFFFFF;\n",
              "    }\n",
              "  </style>\n",
              "\n",
              "      <script>\n",
              "        const buttonEl =\n",
              "          document.querySelector('#df-e82b97e3-491f-4743-9361-7914d39a8dea button.colab-df-convert');\n",
              "        buttonEl.style.display =\n",
              "          google.colab.kernel.accessAllowed ? 'block' : 'none';\n",
              "\n",
              "        async function convertToInteractive(key) {\n",
              "          const element = document.querySelector('#df-e82b97e3-491f-4743-9361-7914d39a8dea');\n",
              "          const dataTable =\n",
              "            await google.colab.kernel.invokeFunction('convertToInteractive',\n",
              "                                                     [key], {});\n",
              "          if (!dataTable) return;\n",
              "\n",
              "          const docLinkHtml = 'Like what you see? Visit the ' +\n",
              "            '<a target=\"_blank\" href=https://colab.research.google.com/notebooks/data_table.ipynb>data table notebook</a>'\n",
              "            + ' to learn more about interactive tables.';\n",
              "          element.innerHTML = '';\n",
              "          dataTable['output_type'] = 'display_data';\n",
              "          await google.colab.output.renderOutput(dataTable, element);\n",
              "          const docLink = document.createElement('div');\n",
              "          docLink.innerHTML = docLinkHtml;\n",
              "          element.appendChild(docLink);\n",
              "        }\n",
              "      </script>\n",
              "    </div>\n",
              "  </div>\n",
              "  "
            ]
          },
          "metadata": {},
          "execution_count": 8
        }
      ]
    },
    {
      "cell_type": "code",
      "source": [
        "DadosUfscar.info()"
      ],
      "metadata": {
        "colab": {
          "base_uri": "https://localhost:8080/"
        },
        "id": "s9AifPyFspzq",
        "outputId": "7279573f-1d2f-4074-a8e6-cf4c3628308b"
      },
      "execution_count": 14,
      "outputs": [
        {
          "output_type": "stream",
          "name": "stdout",
          "text": [
            "<class 'pandas.core.frame.DataFrame'>\n",
            "RangeIndex: 2243 entries, 0 to 2242\n",
            "Data columns (total 4 columns):\n",
            " #   Column         Non-Null Count  Dtype         \n",
            "---  ------         --------------  -----         \n",
            " 0   nome           2243 non-null   object        \n",
            " 1   cargo          2243 non-null   object        \n",
            " 2   unidade        2243 non-null   object        \n",
            " 3   data_ingresso  2243 non-null   datetime64[ns]\n",
            "dtypes: datetime64[ns](1), object(3)\n",
            "memory usage: 70.2+ KB\n"
          ]
        }
      ]
    },
    {
      "cell_type": "code",
      "source": [
        "DadosUfscar['data_ingresso'] = pd.to_datetime(DadosUfscar['data_ingresso'])"
      ],
      "metadata": {
        "id": "BIrpAEJctHvY"
      },
      "execution_count": 13,
      "outputs": []
    },
    {
      "cell_type": "markdown",
      "source": [
        "**Agrupamento de servidores por ano.:**"
      ],
      "metadata": {
        "id": "FnFchRiUtipC"
      }
    },
    {
      "cell_type": "code",
      "source": [
        "count2 = DadosUfscar.groupby(['cargo','data_ingresso']).size()\n",
        "print(count2)"
      ],
      "metadata": {
        "colab": {
          "base_uri": "https://localhost:8080/"
        },
        "id": "8HjT2lbe7sfx",
        "outputId": "eff4f4b9-20d5-4553-c61f-70467db3bce1"
      },
      "execution_count": 82,
      "outputs": [
        {
          "output_type": "stream",
          "name": "stdout",
          "text": [
            "cargo                        data_ingresso\n",
            "Professor do Ensino BÃ¡sico  2004-09-01       1\n",
            "                             2005-08-24       2\n",
            "                             2014-07-30       1\n",
            "                             2014-08-01       1\n",
            "                             2014-08-08       1\n",
            "                                             ..\n",
            "TÃ©cnico-Administrativo      2022-11-10       2\n",
            "                             2022-11-11       1\n",
            "                             2022-12-13       1\n",
            "                             2023-02-01       1\n",
            "                             2023-02-03       1\n",
            "Length: 1537, dtype: int64\n"
          ]
        }
      ]
    },
    {
      "cell_type": "code",
      "source": [
        "Servidores_ano = DadosUfscar.groupby(DadosUfscar['data_ingresso'].dt.year)['cargo'].sum()\n",
        "Servidores_ano"
      ],
      "metadata": {
        "colab": {
          "base_uri": "https://localhost:8080/"
        },
        "id": "gWObaK2EttWB",
        "outputId": "ddcc6549-0f51-4688-ea5f-8b68f3b1b7f3"
      },
      "execution_count": 113,
      "outputs": [
        {
          "output_type": "execute_result",
          "data": {
            "text/plain": [
              "data_ingresso\n",
              "1973                         Professor do Ensino Superior\n",
              "1974                         Professor do Ensino Superior\n",
              "1975    TÃ©cnico-AdministrativoTÃ©cnico-Administrativo...\n",
              "1976    Professor do Ensino SuperiorTÃ©cnico-Administr...\n",
              "1977    TÃ©cnico-AdministrativoTÃ©cnico-Administrativo...\n",
              "1978    TÃ©cnico-AdministrativoTÃ©cnico-Administrativo...\n",
              "1979    Professor do Ensino SuperiorTÃ©cnico-Administr...\n",
              "1980    TÃ©cnico-AdministrativoTÃ©cnico-Administrativo...\n",
              "1982    Professor do Ensino SuperiorProfessor do Ensin...\n",
              "1983    TÃ©cnico-AdministrativoProfessor do Ensino Sup...\n",
              "1985    TÃ©cnico-AdministrativoProfessor do Ensino Sup...\n",
              "1986    Professor do Ensino SuperiorProfessor do Ensin...\n",
              "1987    Professor do Ensino SuperiorProfessor do Ensin...\n",
              "1988    Professor do Ensino SuperiorTÃ©cnico-Administr...\n",
              "1989    Professor do Ensino SuperiorProfessor do Ensin...\n",
              "1990                              TÃ©cnico-Administrativo\n",
              "1991    TÃ©cnico-AdministrativoTÃ©cnico-Administrativo...\n",
              "1992    Professor do Ensino SuperiorTÃ©cnico-Administr...\n",
              "1993    TÃ©cnico-AdministrativoTÃ©cnico-Administrativo...\n",
              "1994    TÃ©cnico-AdministrativoTÃ©cnico-Administrativo...\n",
              "1995    TÃ©cnico-AdministrativoTÃ©cnico-Administrativo...\n",
              "1996    TÃ©cnico-AdministrativoProfessor do Ensino Sup...\n",
              "1997    Professor do Ensino SuperiorProfessor do Ensin...\n",
              "1998    Professor do Ensino SuperiorProfessor do Ensin...\n",
              "2001    Professor do Ensino SuperiorProfessor do Ensin...\n",
              "2002    Professor do Ensino SuperiorProfessor do Ensin...\n",
              "2003    Professor do Ensino SuperiorProfessor do Ensin...\n",
              "2004    Professor do Ensino SuperiorProfessor do Ensin...\n",
              "2005    Professor do Ensino BÃ¡sicoProfessor do Ensino...\n",
              "2006    Professor do Ensino SuperiorProfessor do Ensin...\n",
              "2007    Professor do Ensino SuperiorTÃ©cnico-Administr...\n",
              "2008    Professor do Ensino SuperiorProfessor do Ensin...\n",
              "2009    TÃ©cnico-AdministrativoTÃ©cnico-Administrativo...\n",
              "2010    Professor do Ensino SuperiorTÃ©cnico-Administr...\n",
              "2011    Professor do Ensino SuperiorTÃ©cnico-Administr...\n",
              "2012    Professor do Ensino SuperiorProfessor do Ensin...\n",
              "2013    Professor do Ensino SuperiorProfessor do Ensin...\n",
              "2014    Professor do Ensino SuperiorProfessor do Ensin...\n",
              "2015    Professor do Ensino SuperiorProfessor do Ensin...\n",
              "2016    TÃ©cnico-AdministrativoProfessor do Ensino Sup...\n",
              "2017    Professor do Ensino SuperiorTÃ©cnico-Administr...\n",
              "2018    TÃ©cnico-AdministrativoProfessor do Ensino Sup...\n",
              "2019    Professor do Ensino SuperiorTÃ©cnico-Administr...\n",
              "2020    Professor do Ensino SuperiorProfessor do Ensin...\n",
              "2021    TÃ©cnico-AdministrativoProfessor do Ensino Sup...\n",
              "2022    TÃ©cnico-AdministrativoProfessor do Ensino Sup...\n",
              "2023    TÃ©cnico-AdministrativoProfessor do Ensino Sup...\n",
              "Name: cargo, dtype: object"
            ]
          },
          "metadata": {},
          "execution_count": 113
        }
      ]
    },
    {
      "cell_type": "code",
      "source": [
        "QuantProfessor = DadosUfscar['cargo'] == 'Professor do Ensino Superior'"
      ],
      "metadata": {
        "id": "XCid2vskFaAu"
      },
      "execution_count": 114,
      "outputs": []
    },
    {
      "cell_type": "code",
      "source": [
        "QuantProfessor.describe()"
      ],
      "metadata": {
        "colab": {
          "base_uri": "https://localhost:8080/"
        },
        "id": "-pOn-AyXFzYN",
        "outputId": "4d8d371b-bbf6-47b5-f574-46c743ca2011"
      },
      "execution_count": 115,
      "outputs": [
        {
          "output_type": "execute_result",
          "data": {
            "text/plain": [
              "count     2243\n",
              "unique       2\n",
              "top       True\n",
              "freq      1280\n",
              "Name: cargo, dtype: object"
            ]
          },
          "metadata": {},
          "execution_count": 115
        }
      ]
    },
    {
      "cell_type": "code",
      "source": [
        "count = DadosUfscar['cargo'].value_counts()\n",
        "print(count)"
      ],
      "metadata": {
        "colab": {
          "base_uri": "https://localhost:8080/"
        },
        "id": "rlcJhkl76sqR",
        "outputId": "dc05c640-ae20-4e7c-c39a-654317aa8f86"
      },
      "execution_count": 116,
      "outputs": [
        {
          "output_type": "stream",
          "name": "stdout",
          "text": [
            "Professor do Ensino Superior    1280\n",
            "TÃ©cnico-Administrativo          950\n",
            "Professor do Ensino BÃ¡sico       13\n",
            "Name: cargo, dtype: int64\n"
          ]
        }
      ]
    }
  ]
}